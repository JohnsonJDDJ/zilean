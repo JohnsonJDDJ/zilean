{
 "cells": [
  {
   "cell_type": "markdown",
   "metadata": {},
   "source": [
    "# Playground for Riot Watcher\n",
    "\n",
    "This is a testing notebook where I explore and test out features of `riotwatcher`. "
   ]
  },
  {
   "cell_type": "code",
   "execution_count": 1,
   "metadata": {},
   "outputs": [],
   "source": [
    "from riotwatcher import LolWatcher, ApiError\n",
    "import pandas as pd\n",
    "import zilean\n",
    "\n",
    "import json\n",
    "\n",
    "api_key = zilean.read_api_key()\n",
    "watcher = LolWatcher(api_key=api_key)\n",
    "my_region = 'na1'\n",
    "me = watcher.summoner.by_name(my_region, 'yENatividad')"
   ]
  },
  {
   "cell_type": "markdown",
   "metadata": {},
   "source": [
    "## Match Timeline Summary"
   ]
  },
  {
   "cell_type": "code",
   "execution_count": 2,
   "metadata": {},
   "outputs": [],
   "source": [
    "my_matches = watcher.match.matchlist_by_puuid(my_region, me['puuid'])\n",
    "latest_matchid = my_matches[2]\n",
    "latest_match = watcher.match.by_id(my_region, latest_matchid)\n",
    "latest_timeline = watcher.match.timeline_by_match(my_region, latest_matchid)"
   ]
  },
  {
   "cell_type": "code",
   "execution_count": 7,
   "metadata": {},
   "outputs": [
    {
     "data": {
      "text/html": [
       "<div>\n",
       "<style scoped>\n",
       "    .dataframe tbody tr th:only-of-type {\n",
       "        vertical-align: middle;\n",
       "    }\n",
       "\n",
       "    .dataframe tbody tr th {\n",
       "        vertical-align: top;\n",
       "    }\n",
       "\n",
       "    .dataframe thead th {\n",
       "        text-align: right;\n",
       "    }\n",
       "</style>\n",
       "<table border=\"1\" class=\"dataframe\">\n",
       "  <thead>\n",
       "    <tr style=\"text-align: right;\">\n",
       "      <th></th>\n",
       "      <th>level_0</th>\n",
       "      <th>timeEnemySpentControlled_0</th>\n",
       "      <th>totalGold_0</th>\n",
       "      <th>xp_0</th>\n",
       "      <th>magicDamageDone_0</th>\n",
       "      <th>magicDamageDoneToChampions_0</th>\n",
       "      <th>magicDamageTaken_0</th>\n",
       "      <th>physicalDamageDone_0</th>\n",
       "      <th>physicalDamageDoneToChampions_0</th>\n",
       "      <th>physicalDamageTaken_0</th>\n",
       "      <th>...</th>\n",
       "      <th>magicDamageTaken_4</th>\n",
       "      <th>physicalDamageDone_4</th>\n",
       "      <th>physicalDamageDoneToChampions_4</th>\n",
       "      <th>physicalDamageTaken_4</th>\n",
       "      <th>trueDamageDone_4</th>\n",
       "      <th>trueDamageDoneToChampions_4</th>\n",
       "      <th>trueDamageTaken_4</th>\n",
       "      <th>creepScore_4</th>\n",
       "      <th>matchId</th>\n",
       "      <th>win</th>\n",
       "    </tr>\n",
       "  </thead>\n",
       "  <tbody>\n",
       "    <tr>\n",
       "      <th>0</th>\n",
       "      <td>-1</td>\n",
       "      <td>-26475</td>\n",
       "      <td>-987</td>\n",
       "      <td>-1003</td>\n",
       "      <td>-1769</td>\n",
       "      <td>-1415</td>\n",
       "      <td>1415</td>\n",
       "      <td>-6118</td>\n",
       "      <td>-932</td>\n",
       "      <td>3</td>\n",
       "      <td>...</td>\n",
       "      <td>-442</td>\n",
       "      <td>1222</td>\n",
       "      <td>59</td>\n",
       "      <td>859</td>\n",
       "      <td>-660</td>\n",
       "      <td>14</td>\n",
       "      <td>-98</td>\n",
       "      <td>7</td>\n",
       "      <td>NA1_4307172207</td>\n",
       "      <td>False</td>\n",
       "    </tr>\n",
       "  </tbody>\n",
       "</table>\n",
       "<p>1 rows × 72 columns</p>\n",
       "</div>"
      ],
      "text/plain": [
       "   level_0  timeEnemySpentControlled_0  totalGold_0  xp_0  magicDamageDone_0  \\\n",
       "0       -1                      -26475         -987 -1003              -1769   \n",
       "\n",
       "   magicDamageDoneToChampions_0  magicDamageTaken_0  physicalDamageDone_0  \\\n",
       "0                         -1415                1415                 -6118   \n",
       "\n",
       "   physicalDamageDoneToChampions_0  physicalDamageTaken_0  ...  \\\n",
       "0                             -932                      3  ...   \n",
       "\n",
       "   magicDamageTaken_4  physicalDamageDone_4  physicalDamageDoneToChampions_4  \\\n",
       "0                -442                  1222                               59   \n",
       "\n",
       "   physicalDamageTaken_4  trueDamageDone_4  trueDamageDoneToChampions_4  \\\n",
       "0                    859              -660                           14   \n",
       "\n",
       "   trueDamageTaken_4  creepScore_4         matchId    win  \n",
       "0                -98             7  NA1_4307172207  False  \n",
       "\n",
       "[1 rows x 72 columns]"
      ]
     },
     "execution_count": 7,
     "metadata": {},
     "output_type": "execute_result"
    }
   ],
   "source": [
    "summary = zilean.process_timeframe(latest_timeline, 10, latest_matchid)\n",
    "pd.DataFrame([summary])"
   ]
  }
 ],
 "metadata": {
  "interpreter": {
   "hash": "759a339a8a10cd21f51e8d880db49e879732e80ae0888603c78477bf3bed2c39"
  },
  "kernelspec": {
   "display_name": "Python 3.9.12 ('league')",
   "language": "python",
   "name": "python3"
  },
  "language_info": {
   "codemirror_mode": {
    "name": "ipython",
    "version": 3
   },
   "file_extension": ".py",
   "mimetype": "text/x-python",
   "name": "python",
   "nbconvert_exporter": "python",
   "pygments_lexer": "ipython3",
   "version": "3.9.12"
  },
  "orig_nbformat": 4
 },
 "nbformat": 4,
 "nbformat_minor": 2
}
