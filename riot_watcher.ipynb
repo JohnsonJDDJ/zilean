{
 "cells": [
  {
   "cell_type": "markdown",
   "metadata": {},
   "source": [
    "# Playground for Riot Watcher\n",
    "\n",
    "This is a testing notebook where I explore and test out features of `riotwatcher`. "
   ]
  },
  {
   "cell_type": "code",
   "execution_count": 11,
   "metadata": {},
   "outputs": [
    {
     "ename": "ImportError",
     "evalue": "cannot import name 'SnapShots' from 'zilean' (/Users/JDDJ/Documents/Self/Programming/leagueoflegends/zilean/zilean/__init__.py)",
     "output_type": "error",
     "traceback": [
      "\u001b[0;31m---------------------------------------------------------------------------\u001b[0m",
      "\u001b[0;31mImportError\u001b[0m                               Traceback (most recent call last)",
      "\u001b[1;32m/Users/JDDJ/Documents/Self/Programming/leagueoflegends/zilean/riot_watcher.ipynb Cell 2'\u001b[0m in \u001b[0;36m<cell line: 4>\u001b[0;34m()\u001b[0m\n\u001b[1;32m      <a href='vscode-notebook-cell:/Users/JDDJ/Documents/Self/Programming/leagueoflegends/zilean/riot_watcher.ipynb#ch0000001?line=1'>2</a>\u001b[0m \u001b[39mimport\u001b[39;00m \u001b[39mpandas\u001b[39;00m \u001b[39mas\u001b[39;00m \u001b[39mpd\u001b[39;00m\n\u001b[1;32m      <a href='vscode-notebook-cell:/Users/JDDJ/Documents/Self/Programming/leagueoflegends/zilean/riot_watcher.ipynb#ch0000001?line=2'>3</a>\u001b[0m \u001b[39mimport\u001b[39;00m \u001b[39mzilean\u001b[39;00m\n\u001b[0;32m----> <a href='vscode-notebook-cell:/Users/JDDJ/Documents/Self/Programming/leagueoflegends/zilean/riot_watcher.ipynb#ch0000001?line=3'>4</a>\u001b[0m \u001b[39mfrom\u001b[39;00m \u001b[39mzilean\u001b[39;00m \u001b[39mimport\u001b[39;00m SnapShots\n\u001b[1;32m      <a href='vscode-notebook-cell:/Users/JDDJ/Documents/Self/Programming/leagueoflegends/zilean/riot_watcher.ipynb#ch0000001?line=5'>6</a>\u001b[0m \u001b[39mimport\u001b[39;00m \u001b[39mjson\u001b[39;00m\n\u001b[1;32m      <a href='vscode-notebook-cell:/Users/JDDJ/Documents/Self/Programming/leagueoflegends/zilean/riot_watcher.ipynb#ch0000001?line=7'>8</a>\u001b[0m api_key \u001b[39m=\u001b[39m zilean\u001b[39m.\u001b[39mread_api_key()\n",
      "\u001b[0;31mImportError\u001b[0m: cannot import name 'SnapShots' from 'zilean' (/Users/JDDJ/Documents/Self/Programming/leagueoflegends/zilean/zilean/__init__.py)"
     ]
    }
   ],
   "source": [
    "from riotwatcher import LolWatcher, ApiError\n",
    "import pandas as pd\n",
    "import zilean\n",
    "from zilean.snapshots import SnapShots\n",
    "\n",
    "import json\n",
    "\n",
    "api_key = zilean.read_api_key()\n",
    "watcher = LolWatcher(api_key=api_key)\n",
    "my_region = 'na1'\n",
    "me = watcher.summoner.by_name(my_region, 'yENatividad')"
   ]
  },
  {
   "cell_type": "markdown",
   "metadata": {},
   "source": [
    "## Match Timeline Summary"
   ]
  },
  {
   "cell_type": "code",
   "execution_count": 2,
   "metadata": {},
   "outputs": [],
   "source": [
    "my_matches = watcher.match.matchlist_by_puuid(my_region, me['puuid'])\n",
    "latest_matchid = my_matches[2]\n",
    "latest_match = watcher.match.by_id(my_region, latest_matchid)\n",
    "latest_timeline = watcher.match.timeline_by_match(my_region, latest_matchid)"
   ]
  },
  {
   "cell_type": "code",
   "execution_count": 5,
   "metadata": {},
   "outputs": [
    {
     "data": {
      "text/html": [
       "<div>\n",
       "<style scoped>\n",
       "    .dataframe tbody tr th:only-of-type {\n",
       "        vertical-align: middle;\n",
       "    }\n",
       "\n",
       "    .dataframe tbody tr th {\n",
       "        vertical-align: top;\n",
       "    }\n",
       "\n",
       "    .dataframe thead th {\n",
       "        text-align: right;\n",
       "    }\n",
       "</style>\n",
       "<table border=\"1\" class=\"dataframe\">\n",
       "  <thead>\n",
       "    <tr style=\"text-align: right;\">\n",
       "      <th></th>\n",
       "      <th>level_0_frame8</th>\n",
       "      <th>timeEnemySpentControlled_0_frame8</th>\n",
       "      <th>totalGold_0_frame8</th>\n",
       "      <th>xp_0_frame8</th>\n",
       "      <th>totalDamageDone_0_frame8</th>\n",
       "      <th>totalDamageDoneToChampions_0_frame8</th>\n",
       "      <th>totalDamageTaken_0_frame8</th>\n",
       "      <th>creepScore_0_frame8</th>\n",
       "      <th>level_1_frame8</th>\n",
       "      <th>timeEnemySpentControlled_1_frame8</th>\n",
       "      <th>...</th>\n",
       "      <th>level_4_frame10</th>\n",
       "      <th>timeEnemySpentControlled_4_frame10</th>\n",
       "      <th>totalGold_4_frame10</th>\n",
       "      <th>xp_4_frame10</th>\n",
       "      <th>totalDamageDone_4_frame10</th>\n",
       "      <th>totalDamageDoneToChampions_4_frame10</th>\n",
       "      <th>totalDamageTaken_4_frame10</th>\n",
       "      <th>creepScore_4_frame10</th>\n",
       "      <th>matchId</th>\n",
       "      <th>win</th>\n",
       "    </tr>\n",
       "  </thead>\n",
       "  <tbody>\n",
       "    <tr>\n",
       "      <th>0</th>\n",
       "      <td>-1</td>\n",
       "      <td>2121</td>\n",
       "      <td>-854</td>\n",
       "      <td>-855</td>\n",
       "      <td>-5051</td>\n",
       "      <td>-1807</td>\n",
       "      <td>1246</td>\n",
       "      <td>-27</td>\n",
       "      <td>0</td>\n",
       "      <td>120691</td>\n",
       "      <td>...</td>\n",
       "      <td>0</td>\n",
       "      <td>-20745</td>\n",
       "      <td>-457</td>\n",
       "      <td>237</td>\n",
       "      <td>2448</td>\n",
       "      <td>552</td>\n",
       "      <td>318</td>\n",
       "      <td>7</td>\n",
       "      <td>NA1_4307172207</td>\n",
       "      <td>False</td>\n",
       "    </tr>\n",
       "  </tbody>\n",
       "</table>\n",
       "<p>1 rows × 82 columns</p>\n",
       "</div>"
      ],
      "text/plain": [
       "   level_0_frame8  timeEnemySpentControlled_0_frame8  totalGold_0_frame8  \\\n",
       "0              -1                               2121                -854   \n",
       "\n",
       "   xp_0_frame8  totalDamageDone_0_frame8  totalDamageDoneToChampions_0_frame8  \\\n",
       "0         -855                     -5051                                -1807   \n",
       "\n",
       "   totalDamageTaken_0_frame8  creepScore_0_frame8  level_1_frame8  \\\n",
       "0                       1246                  -27               0   \n",
       "\n",
       "   timeEnemySpentControlled_1_frame8  ...  level_4_frame10  \\\n",
       "0                             120691  ...                0   \n",
       "\n",
       "   timeEnemySpentControlled_4_frame10  totalGold_4_frame10  xp_4_frame10  \\\n",
       "0                              -20745                 -457           237   \n",
       "\n",
       "   totalDamageDone_4_frame10  totalDamageDoneToChampions_4_frame10  \\\n",
       "0                       2448                                   552   \n",
       "\n",
       "   totalDamageTaken_4_frame10  creepScore_4_frame10         matchId    win  \n",
       "0                         318                     7  NA1_4307172207  False  \n",
       "\n",
       "[1 rows x 82 columns]"
      ]
     },
     "execution_count": 5,
     "metadata": {},
     "output_type": "execute_result"
    }
   ],
   "source": [
    "summary = zilean.process_timeframe(latest_timeline, [8, 10], latest_matchid)\n",
    "pd.DataFrame([summary])"
   ]
  },
  {
   "cell_type": "code",
   "execution_count": 6,
   "metadata": {},
   "outputs": [
    {
     "ename": "NameError",
     "evalue": "name 'SnapShots' is not defined",
     "output_type": "error",
     "traceback": [
      "\u001b[0;31m---------------------------------------------------------------------------\u001b[0m",
      "\u001b[0;31mNameError\u001b[0m                                 Traceback (most recent call last)",
      "\u001b[1;32m/Users/JDDJ/Documents/Self/Programming/leagueoflegends/zilean/riot_watcher.ipynb Cell 6'\u001b[0m in \u001b[0;36m<cell line: 1>\u001b[0;34m()\u001b[0m\n\u001b[0;32m----> <a href='vscode-notebook-cell:/Users/JDDJ/Documents/Self/Programming/leagueoflegends/zilean/riot_watcher.ipynb#ch0000009?line=0'>1</a>\u001b[0m snap \u001b[39m=\u001b[39m SnapShots(latest_timeline, [\u001b[39m8\u001b[39m, \u001b[39m10\u001b[39m], latest_matchid)\n",
      "\u001b[0;31mNameError\u001b[0m: name 'SnapShots' is not defined"
     ]
    }
   ],
   "source": [
    "snap = SnapShots(latest_timeline, [8, 10], latest_matchid)"
   ]
  }
 ],
 "metadata": {
  "interpreter": {
   "hash": "759a339a8a10cd21f51e8d880db49e879732e80ae0888603c78477bf3bed2c39"
  },
  "kernelspec": {
   "display_name": "Python 3.9.12 ('league')",
   "language": "python",
   "name": "python3"
  },
  "language_info": {
   "codemirror_mode": {
    "name": "ipython",
    "version": 3
   },
   "file_extension": ".py",
   "mimetype": "text/x-python",
   "name": "python",
   "nbconvert_exporter": "python",
   "pygments_lexer": "ipython3",
   "version": "3.9.12"
  },
  "orig_nbformat": 4
 },
 "nbformat": 4,
 "nbformat_minor": 2
}
