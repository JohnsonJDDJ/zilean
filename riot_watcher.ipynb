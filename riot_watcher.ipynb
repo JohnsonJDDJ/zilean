{
 "cells": [
  {
   "cell_type": "markdown",
   "metadata": {},
   "source": [
    "# Playground for Riot Watcher\n",
    "\n",
    "This is a testing notebook where I explore and test out features of `riotwatcher`. "
   ]
  },
  {
   "cell_type": "code",
   "execution_count": 1,
   "metadata": {},
   "outputs": [],
   "source": [
    "from riotwatcher import LolWatcher, ApiError\n",
    "import pandas as pd\n",
    "import zilean\n",
    "from zilean import SnapShots\n",
    "\n",
    "import json\n",
    "\n",
    "api_key = zilean.read_api_key()\n",
    "watcher = LolWatcher(api_key=api_key)\n",
    "my_region = 'na1'\n",
    "me = watcher.summoner.by_name(my_region, 'yENatividad')"
   ]
  },
  {
   "cell_type": "markdown",
   "metadata": {},
   "source": [
    "## Match Timeline Summary"
   ]
  },
  {
   "cell_type": "code",
   "execution_count": 2,
   "metadata": {},
   "outputs": [],
   "source": [
    "my_matches = watcher.match.matchlist_by_puuid(my_region, me['puuid'])\n",
    "latest_matchid = my_matches[2]\n",
    "latest_match = watcher.match.by_id(my_region, latest_matchid)\n",
    "latest_timeline = watcher.match.timeline_by_match(my_region, latest_matchid)"
   ]
  },
  {
   "cell_type": "code",
   "execution_count": 4,
   "metadata": {},
   "outputs": [
    {
     "data": {
      "text/html": [
       "<div>\n",
       "<style scoped>\n",
       "    .dataframe tbody tr th:only-of-type {\n",
       "        vertical-align: middle;\n",
       "    }\n",
       "\n",
       "    .dataframe tbody tr th {\n",
       "        vertical-align: top;\n",
       "    }\n",
       "\n",
       "    .dataframe thead th {\n",
       "        text-align: right;\n",
       "    }\n",
       "</style>\n",
       "<table border=\"1\" class=\"dataframe\">\n",
       "  <thead>\n",
       "    <tr style=\"text-align: right;\">\n",
       "      <th></th>\n",
       "      <th>level_0_frame5</th>\n",
       "      <th>timeEnemySpentControlled_0_frame5</th>\n",
       "      <th>totalGold_0_frame5</th>\n",
       "      <th>xp_0_frame5</th>\n",
       "      <th>totalDamageDone_0_frame5</th>\n",
       "      <th>totalDamageDoneToChampions_0_frame5</th>\n",
       "      <th>totalDamageTaken_0_frame5</th>\n",
       "      <th>creepScore_0_frame5</th>\n",
       "      <th>goldPorportion_0_frame5</th>\n",
       "      <th>xpPorportion_0_frame5</th>\n",
       "      <th>...</th>\n",
       "      <th>totalGold_4_frame10</th>\n",
       "      <th>xp_4_frame10</th>\n",
       "      <th>totalDamageDone_4_frame10</th>\n",
       "      <th>totalDamageDoneToChampions_4_frame10</th>\n",
       "      <th>totalDamageTaken_4_frame10</th>\n",
       "      <th>creepScore_4_frame10</th>\n",
       "      <th>goldPorportion_4_frame10</th>\n",
       "      <th>xpPorportion_4_frame10</th>\n",
       "      <th>matchId</th>\n",
       "      <th>win</th>\n",
       "    </tr>\n",
       "  </thead>\n",
       "  <tbody>\n",
       "    <tr>\n",
       "      <th>0</th>\n",
       "      <td>0</td>\n",
       "      <td>2609</td>\n",
       "      <td>-105</td>\n",
       "      <td>-210</td>\n",
       "      <td>-71</td>\n",
       "      <td>-682</td>\n",
       "      <td>502</td>\n",
       "      <td>-8</td>\n",
       "      <td>0.007222</td>\n",
       "      <td>-0.021216</td>\n",
       "      <td>...</td>\n",
       "      <td>-457</td>\n",
       "      <td>237</td>\n",
       "      <td>2448</td>\n",
       "      <td>552</td>\n",
       "      <td>318</td>\n",
       "      <td>7</td>\n",
       "      <td>-0.004807</td>\n",
       "      <td>0.032869</td>\n",
       "      <td>NA1_4307172207</td>\n",
       "      <td>False</td>\n",
       "    </tr>\n",
       "  </tbody>\n",
       "</table>\n",
       "<p>1 rows × 102 columns</p>\n",
       "</div>"
      ],
      "text/plain": [
       "   level_0_frame5  timeEnemySpentControlled_0_frame5  totalGold_0_frame5  \\\n",
       "0               0                               2609                -105   \n",
       "\n",
       "   xp_0_frame5  totalDamageDone_0_frame5  totalDamageDoneToChampions_0_frame5  \\\n",
       "0         -210                       -71                                 -682   \n",
       "\n",
       "   totalDamageTaken_0_frame5  creepScore_0_frame5  goldPorportion_0_frame5  \\\n",
       "0                        502                   -8                 0.007222   \n",
       "\n",
       "   xpPorportion_0_frame5  ...  totalGold_4_frame10  xp_4_frame10  \\\n",
       "0              -0.021216  ...                 -457           237   \n",
       "\n",
       "   totalDamageDone_4_frame10  totalDamageDoneToChampions_4_frame10  \\\n",
       "0                       2448                                   552   \n",
       "\n",
       "   totalDamageTaken_4_frame10  creepScore_4_frame10  goldPorportion_4_frame10  \\\n",
       "0                         318                     7                 -0.004807   \n",
       "\n",
       "   xpPorportion_4_frame10         matchId    win  \n",
       "0                0.032869  NA1_4307172207  False  \n",
       "\n",
       "[1 rows x 102 columns]"
      ]
     },
     "execution_count": 4,
     "metadata": {},
     "output_type": "execute_result"
    }
   ],
   "source": [
    "snaps = SnapShots(latest_timeline, frames=[5, 10])\n",
    "pd.DataFrame(snaps.summary())"
   ]
  },
  {
   "cell_type": "markdown",
   "metadata": {},
   "source": [
    "## Fetch Leagues"
   ]
  }
 ],
 "metadata": {
  "interpreter": {
   "hash": "759a339a8a10cd21f51e8d880db49e879732e80ae0888603c78477bf3bed2c39"
  },
  "kernelspec": {
   "display_name": "Python 3.9.12 ('league')",
   "language": "python",
   "name": "python3"
  },
  "language_info": {
   "codemirror_mode": {
    "name": "ipython",
    "version": 3
   },
   "file_extension": ".py",
   "mimetype": "text/x-python",
   "name": "python",
   "nbconvert_exporter": "python",
   "pygments_lexer": "ipython3",
   "version": "3.9.12"
  },
  "orig_nbformat": 4
 },
 "nbformat": 4,
 "nbformat_minor": 2
}
