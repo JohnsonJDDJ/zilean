{
 "cells": [
  {
   "cell_type": "code",
   "execution_count": 1,
   "metadata": {},
   "outputs": [],
   "source": [
    "import pandas as pd\n",
    "import matplotlib.pyplot as plt\n",
    "import seaborn as sns\n",
    "import numpy as np\n",
    "\n",
    "from sklearn.preprocessing import StandardScaler\n",
    "from sklearn.model_selection import GridSearchCV, cross_val_score, train_test_split\n",
    "from sklearn.metrics import roc_curve, auc, RocCurveDisplay\n",
    "\n",
    "from zilean import SnapShots\n",
    "\n",
    "import pickle, os, json\n",
    "\n",
    "# GLOBAL VARIABLES\n",
    "FRAMES = [12, 15]\n",
    "PER_FRAME = True\n",
    "DO_RETRAIN = {\"random_forest\": False, \"xgboost\": False}\n",
    "\n",
    "MODEL_ID = (\"frame_\" if PER_FRAME else \"match_\") + \"_\".join(str(e) for e in FRAMES)\n",
    "\n",
    "# FILENAME\n",
    "CSV_FILE_NAME = \"data/\" + MODEL_ID + \".csv\"\n",
    "SOURCE_FILE_NAME = \"data/matches.json\"\n",
    "RESULT_FILE_NAME = \"models/results.json\""
   ]
  },
  {
   "cell_type": "code",
   "execution_count": 2,
   "metadata": {},
   "outputs": [],
   "source": [
    "def plot_roc_curve(y, prob):\n",
    "    fpr, tpr, _ = roc_curve(y, prob)\n",
    "    roc_auc = auc(fpr, tpr)\n",
    "    display = RocCurveDisplay(fpr=fpr, tpr=tpr, roc_auc=roc_auc,\n",
    "                                  estimator_name='example estimator')\n",
    "    display.plot()\n",
    "\n",
    "def print_metrics(model, X_train, X_test, y_train, y_test):\n",
    "    y_fit = model.predict(X_train)\n",
    "    y_predict = model.predict(X_test)\n",
    "    print(f\"Train Accuracy: {np.mean(y_train == y_fit)}. Test Accuracy {np.mean(y_test == y_predict)}.\")\n",
    "    plot_roc_curve(y_test, model.predict_proba(X_test)[:,1])"
   ]
  },
  {
   "cell_type": "code",
   "execution_count": 3,
   "metadata": {},
   "outputs": [
    {
     "name": "stdout",
     "output_type": "stream",
     "text": [
      "Saved files to direcotry data/.\n"
     ]
    }
   ],
   "source": [
    "if os.path.exists(CSV_FILE_NAME):\n",
    "    snaps = SnapShots(CSV_FILE_NAME, frames=FRAMES)\n",
    "    data = pd.DataFrame(snaps.summary(per_frame=PER_FRAME))\n",
    "    print(\"Succesfully loaded cached data csv.\")\n",
    "else:\n",
    "    snaps = SnapShots(SOURCE_FILE_NAME, frames=FRAMES)\n",
    "    data = pd.DataFrame(snaps.summary(per_frame=PER_FRAME))\n",
    "    snaps.to_disk()\n",
    "\n",
    "scaler = StandardScaler()\n",
    "\n",
    "X = data.drop([\"win\", \"matchId\"], axis=1)\n",
    "y = data['win'].astype(int)\n",
    "\n",
    "X_train, X_test, y_train, y_test = train_test_split(X, y, test_size=0.2, random_state=42)\n",
    "\n",
    "# Fit the scaler and transform X\n",
    "scaler.fit(X_train)\n",
    "X_train = scaler.transform(X_train)\n",
    "X_test = scaler.transform(X_test)\n",
    "\n",
    "# Record column names\n",
    "X_col_names = list(X.columns)"
   ]
  },
  {
   "cell_type": "markdown",
   "metadata": {},
   "source": [
    "## Random Forest Classifier"
   ]
  },
  {
   "cell_type": "code",
   "execution_count": 4,
   "metadata": {},
   "outputs": [],
   "source": [
    "from sklearn.ensemble import RandomForestClassifier"
   ]
  },
  {
   "cell_type": "code",
   "execution_count": 8,
   "metadata": {},
   "outputs": [
    {
     "name": "stdout",
     "output_type": "stream",
     "text": [
      "Succesfully loaded cached gridCV result.\n",
      "The best parameters for cv grid search is {'max_depth': 6, 'max_features': 'sqrt', 'n_estimators': 125}.\n"
     ]
    }
   ],
   "source": [
    "RETRAIN = DO_RETRAIN['random_forest']\n",
    "RF_MODEL_FILE_NAME = \"models/\" + MODEL_ID + \"rf_cv.pkl\"\n",
    "\n",
    "if os.path.exists(RF_MODEL_FILE_NAME) and not RETRAIN:\n",
    "    with open(RF_MODEL_FILE_NAME, \"rb\") as f:\n",
    "        grid = pickle.load(f)\n",
    "    print(\"Succesfully loaded cached gridCV result.\")\n",
    "else:\n",
    "    rf = RandomForestClassifier(random_state=42)\n",
    "    param_grid = {\"n_estimators\": (10 ** np.linspace(1.3, 2.7, 50)).astype(int),\n",
    "                  \"max_depth\": [2, 4, 6, 8, 10],\n",
    "                  \"max_features\": [\"sqrt\", \"log2\"]}\n",
    "    grid = GridSearchCV(rf, param_grid, scoring=\"accuracy\", n_jobs=5, cv=10)\n",
    "    grid.fit(X_train, y_train)\n",
    "\n",
    "    with open(RF_MODEL_FILE_NAME, \"wb\") as f:\n",
    "        pickle.dump(grid, f)\n",
    "\n",
    "print(f\"The best parameters for cv grid search is {grid.best_params_}.\")"
   ]
  },
  {
   "cell_type": "code",
   "execution_count": 9,
   "metadata": {},
   "outputs": [
    {
     "name": "stdout",
     "output_type": "stream",
     "text": [
      "Train Accuracy: 0.9073405535499398. Test Accuracy 0.8173076923076923.\n"
     ]
    },
    {
     "data": {
      "image/png": "[encoded data removed]",
      "text/plain": [
       "<Figure size 432x288 with 1 Axes>"
      ]
     },
     "metadata": {
      "needs_background": "light"
     },
     "output_type": "display_data"
    }
   ],
   "source": [
    "rf_cv_result = pd.DataFrame(grid.cv_results_)\n",
    "final_rf = grid.best_estimator_\n",
    "final_rf.fit(X_train, y_train)\n",
    "\n",
    "#sns.lineplot(x=\"param_n_estimators\", y=\"mean_test_score\", hue=\"param_max_depth\", data=rf_cv_result)\n",
    "print_metrics(final_rf, X_train, X_test, y_train, y_test)"
   ]
  },
  {
   "cell_type": "markdown",
   "metadata": {},
   "source": [
    "## XGBoost Classifier"
   ]
  },
  {
   "cell_type": "code",
   "execution_count": 10,
   "metadata": {},
   "outputs": [],
   "source": [
    "from xgboost import XGBClassifier"
   ]
  },
  {
   "cell_type": "code",
   "execution_count": 11,
   "metadata": {},
   "outputs": [
    {
     "name": "stdout",
     "output_type": "stream",
     "text": [
      "The best parameters for cv grid search is {'colsample_bytree': 0.6, 'max_depth': 2, 'min_child_weight': 5, 'n_estimators': 39, 'subsample': 0.5}.\n"
     ]
    }
   ],
   "source": [
    "RETRAIN = DO_RETRAIN['xgboost']\n",
    "XGB_MODEL_FILE_NAME = \"models/\" + MODEL_ID + \"xgb_cv.pkl\"\n",
    "\n",
    "if os.path.exists(XGB_MODEL_FILE_NAME) and not RETRAIN:\n",
    "    with open(XGB_MODEL_FILE_NAME, \"rb\") as f:\n",
    "        grid = pickle.load(f)\n",
    "    print(\"Succesfully loaded cached gridCV result.\")\n",
    "\n",
    "else:\n",
    "    xgb = XGBClassifier(learning_rate=0.2, eval_metric=\"logloss\", use_label_encoder=False, verbosity=0, silent=True, random_state=42)\n",
    "    param_grid = {\"n_estimators\": (10**np.linspace(1.3, 2.2, 10)).astype(int),\n",
    "                  \"subsample\": [0.5, 0.6, 0.7],\n",
    "                  \"colsample_bytree\": [0.2, 0.4, 0.6, 0.8],\n",
    "                  \"min_child_weight\": [1, 3, 5], \n",
    "                  \"max_depth\": [2, 4, 6]}\n",
    "    grid = GridSearchCV(xgb, param_grid, scoring=\"accuracy\", cv=5, n_jobs=5)\n",
    "    grid.fit(X_train, y_train)\n",
    "\n",
    "    with open(XGB_MODEL_FILE_NAME, \"wb\") as f:\n",
    "            pickle.dump(grid, f)\n",
    "\n",
    "print(f\"The best parameters for cv grid search is {grid.best_params_}.\")"
   ]
  },
  {
   "cell_type": "code",
   "execution_count": 12,
   "metadata": {},
   "outputs": [
    {
     "name": "stdout",
     "output_type": "stream",
     "text": [
      "Train Accuracy: 0.8206979542719615. Test Accuracy 0.8125.\n"
     ]
    },
    {
     "data": {
      "image/png": "[encoded data removed]",
      "text/plain": [
       "<Figure size 432x288 with 1 Axes>"
      ]
     },
     "metadata": {
      "needs_background": "light"
     },
     "output_type": "display_data"
    }
   ],
   "source": [
    "xgb_cv_result = pd.DataFrame(grid.cv_results_)\n",
    "final_xgb = grid.best_estimator_\n",
    "final_xgb.fit(X_train, y_train)\n",
    "\n",
    "print_metrics(final_xgb, X_train, X_test, y_train, y_test)"
   ]
  },
  {
   "cell_type": "markdown",
   "metadata": {},
   "source": [
    "## Write Results"
   ]
  },
  {
   "cell_type": "code",
   "execution_count": 13,
   "metadata": {},
   "outputs": [
    {
     "name": "stdout",
     "output_type": "stream",
     "text": [
      "Successfully wrote results to models/results.json\n"
     ]
    }
   ],
   "source": [
    "if os.path.exists(RESULT_FILE_NAME):\n",
    "    with open(RESULT_FILE_NAME, \"r\") as f:\n",
    "        results = json.load(f)\n",
    "    print(\"Successfully loaded cached results.\")\n",
    "else:\n",
    "    results = []\n",
    "\n",
    "for result in results:\n",
    "    if result[\"id\"] == MODEL_ID:\n",
    "        results.remove(result)\n",
    "\n",
    "result = {}\n",
    "# Metadata\n",
    "result[\"id\"] = MODEL_ID\n",
    "result[\"frames\"] = \"_\".join(str(e) for e in FRAMES)\n",
    "result[\"type\"] = (\"frame\" if PER_FRAME else \"match\")\n",
    "# For metrics (accuracy, AUC, etc.)\n",
    "result[\"y_test\"] = list(y_test)\n",
    "result[\"y_proba_rf\"] = list(final_rf.predict_proba(X_test)[:,1].astype(float))\n",
    "result[\"y_proba_xgb\"] = list(final_xgb.predict_proba(X_test)[:,1].astype(float))\n",
    "# For feature importances\n",
    "result[\"features\"] = list(X_col_names)\n",
    "result[\"importances_rf\"] = list(final_rf.feature_importances_.astype(float))\n",
    "result[\"importances_xgb\"] = list(final_xgb.feature_importances_.astype(float))\n",
    "\n",
    "results += [result]\n",
    "\n",
    "with open(RESULT_FILE_NAME, \"w\") as f:\n",
    "    json.dump(results, f)\n",
    "print(f\"Successfully wrote results to {RESULT_FILE_NAME}\")"
   ]
  }
 ],
 "metadata": {
  "interpreter": {
   "hash": "759a339a8a10cd21f51e8d880db49e879732e80ae0888603c78477bf3bed2c39"
  },
  "kernelspec": {
   "display_name": "Python 3.9.12 ('league')",
   "language": "python",
   "name": "python3"
  },
  "language_info": {
   "codemirror_mode": {
    "name": "ipython",
    "version": 3
   },
   "file_extension": ".py",
   "mimetype": "text/x-python",
   "name": "python",
   "nbconvert_exporter": "python",
   "pygments_lexer": "ipython3",
   "version": "3.9.12"
  },
  "orig_nbformat": 4
 },
 "nbformat": 4,
 "nbformat_minor": 2
}
